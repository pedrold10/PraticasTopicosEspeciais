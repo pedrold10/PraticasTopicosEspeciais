{
  "nbformat": 4,
  "nbformat_minor": 0,
  "metadata": {
    "colab": {
      "provenance": []
    },
    "kernelspec": {
      "name": "python3",
      "display_name": "Python 3"
    },
    "language_info": {
      "name": "python"
    }
  },
  "cells": [
    {
      "cell_type": "markdown",
      "source": [
        "\n",
        "\n",
        "#Carregando a base TITANIC\n",
        "\n"
      ],
      "metadata": {
        "id": "eTcIYiTz1Ete"
      }
    },
    {
      "cell_type": "code",
      "execution_count": 1,
      "metadata": {
        "id": "u3efHn_J07o4"
      },
      "outputs": [],
      "source": [
        "import pandas as pd\n",
        "from seaborn import load_dataset\n",
        "#url = \"https://raw.githubusercontent.com/tmoura/machinelearning/master/transfusion.data\"\n",
        "\n",
        "df = load_dataset('titanic')"
      ]
    },
    {
      "cell_type": "markdown",
      "source": [
        "#Remover as linhas que teham valores NaN"
      ],
      "metadata": {
        "id": "TZWVWJLn1D7W"
      }
    },
    {
      "cell_type": "code",
      "source": [
        "df = df.drop('deck', axis=1)\n",
        "\n",
        "df = df.dropna()\n",
        "df = df.drop('adult_male', axis=1)\n",
        "df = df.drop('alive', axis=1)\n",
        "df = df.drop('class', axis=1)"
      ],
      "metadata": {
        "id": "Mh34rv_41W8N"
      },
      "execution_count": 2,
      "outputs": []
    },
    {
      "cell_type": "markdown",
      "source": [
        "#Transformar todos os atributos categóricos usando One-Hot Encoder"
      ],
      "metadata": {
        "id": "sZTpt5VD1dUX"
      }
    },
    {
      "cell_type": "code",
      "source": [
        "from sklearn.compose import make_column_transformer\n",
        "from sklearn.preprocessing import OneHotEncoder\n",
        "\n",
        "column_transformer = make_column_transformer((OneHotEncoder(), ['embarked', 'who', 'sex', 'embark_town', 'alone']), remainder='passthrough')\n",
        "\n",
        "df = column_transformer.fit_transform(df)\n",
        "\n",
        "df = pd.DataFrame(data=df)"
      ],
      "metadata": {
        "id": "A5z7u0JE1bUG"
      },
      "execution_count": 3,
      "outputs": []
    },
    {
      "cell_type": "markdown",
      "source": [
        "#Coluna target é a \"pclass\" ou \"survived\""
      ],
      "metadata": {
        "id": "vv_KGPSw1xfd"
      }
    },
    {
      "cell_type": "code",
      "source": [
        "y = df[0]\n",
        "\n",
        "X = df.drop(0,axis=1)"
      ],
      "metadata": {
        "id": "s6FOBmMl1ytM"
      },
      "execution_count": 4,
      "outputs": []
    },
    {
      "cell_type": "markdown",
      "source": [
        "#Separar os dados de treinamento e testes"
      ],
      "metadata": {
        "id": "0O0XlSCT14aM"
      }
    },
    {
      "cell_type": "code",
      "source": [
        "from sklearn.model_selection import train_test_split\n",
        "from sklearn import preprocessing\n",
        "\n",
        "X_train, X_test, y_train, y_test = train_test_split(X, y, test_size= 0.2, random_state=None, stratify=y)\n",
        "\n",
        "x = X.values\n",
        "min_max_scaler = preprocessing.MinMaxScaler()\n",
        "x_scaled = min_max_scaler.fit_transform(x)"
      ],
      "metadata": {
        "id": "UdapNpX216JC"
      },
      "execution_count": 5,
      "outputs": []
    },
    {
      "cell_type": "markdown",
      "source": [
        "#Treinar 2 árvores de decisão com características diferentes"
      ],
      "metadata": {
        "id": "sOqq6leN1-jE"
      }
    },
    {
      "cell_type": "code",
      "source": [
        "from sklearn.tree import DecisionTreeClassifier\n",
        "\n",
        "modelo1DecTree = DecisionTreeClassifier(criterion='entropy')\n",
        "modelo2DecTree = DecisionTreeClassifier(criterion='entropy', max_depth=2)\n",
        "\n",
        "modelo1DecTree.fit(X_train, y_train)\n",
        "modelo2DecTree.fit(X_train, y_train)\n",
        "\n",
        "\n",
        "res1 = modelo1DecTree.predict(X_test)\n",
        "res2 = modelo2DecTree.predict(X_test)"
      ],
      "metadata": {
        "id": "afIqNUBS2Bd7"
      },
      "execution_count": 6,
      "outputs": []
    },
    {
      "cell_type": "markdown",
      "source": [
        "#Treinar 2 kNN com características diferentes"
      ],
      "metadata": {
        "id": "3wQZlJeu2Dv5"
      }
    },
    {
      "cell_type": "code",
      "source": [
        "from sklearn.neighbors import KNeighborsClassifier\n",
        "\n",
        "modelo3KNN = KNeighborsClassifier(n_neighbors=7, metric='euclidean', algorithm='brute')\n",
        "modelo4KNN = KNeighborsClassifier(n_neighbors=4, metric='euclidean', algorithm='brute')\n",
        "\n",
        "\n",
        "modelo3KNN.fit(X_train, y_train)\n",
        "modelo4KNN.fit(X_train, y_train)\n",
        "\n",
        "\n",
        "res3 = modelo3KNN.predict(X_test)\n",
        "res4 = modelo4KNN.predict(X_test)"
      ],
      "metadata": {
        "id": "RVQ-NWKz2HBN"
      },
      "execution_count": 7,
      "outputs": []
    },
    {
      "cell_type": "markdown",
      "source": [
        "#Resultados"
      ],
      "metadata": {
        "id": "rxHxv0pM2JwF"
      }
    },
    {
      "cell_type": "code",
      "source": [
        "from sklearn import metrics\n",
        "\n",
        "acc1 = metrics.accuracy_score(res1, y_test)\n",
        "show1 = round(acc1 * 100)\n",
        "print(\"{}%\".format(show1))\n",
        "\n",
        "acc2 = metrics.accuracy_score(res2, y_test)\n",
        "show2 = round(acc2 * 100)\n",
        "print(\"{}%\".format(show2))\n",
        "\n",
        "acc3 = metrics.accuracy_score(res3, y_test)\n",
        "show3 = round(acc3 * 100)\n",
        "print(\"{}%\".format(show3))\n",
        "\n",
        "acc4 = metrics.accuracy_score(res4, y_test)\n",
        "show4 = round(acc4 * 100)\n",
        "print(\"{}%\".format(show4))"
      ],
      "metadata": {
        "colab": {
          "base_uri": "https://localhost:8080/"
        },
        "id": "zlasFTKp2NWC",
        "outputId": "6dcd8178-b930-4249-bd47-c004410d36a2"
      },
      "execution_count": 10,
      "outputs": [
        {
          "output_type": "stream",
          "name": "stdout",
          "text": [
            "100%\n",
            "100%\n",
            "85%\n",
            "83%\n"
          ]
        }
      ]
    }
  ]
}