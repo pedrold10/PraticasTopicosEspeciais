{
  "nbformat": 4,
  "nbformat_minor": 0,
  "metadata": {
    "colab": {
      "provenance": []
    },
    "kernelspec": {
      "name": "python3",
      "display_name": "Python 3"
    },
    "language_info": {
      "name": "python"
    }
  },
  "cells": [
    {
      "cell_type": "markdown",
      "source": [
        "\n",
        "\n",
        "\n",
        "#Carregar a base TRANSFUSION\n"
      ],
      "metadata": {
        "id": "OfHPLQPR2kOO"
      }
    },
    {
      "cell_type": "code",
      "execution_count": 1,
      "metadata": {
        "id": "SqNwkdKb2fu1"
      },
      "outputs": [],
      "source": [
        "\n",
        "\n",
        "import pandas as pd\n",
        "\n",
        "url = \"https://raw.githubusercontent.com/tmoura/machinelearning/master/transfusion.data\"\n",
        "\n",
        "df = pd.read_csv(url, header=None)\n",
        "columns = len(df.columns)\n",
        "df = pd.DataFrame(data=df)"
      ]
    },
    {
      "cell_type": "markdown",
      "source": [
        "#A coluna 0 (zero) é o TARGET.\n",
        "\n"
      ],
      "metadata": {
        "id": "8CoGQRUw2nmq"
      }
    },
    {
      "cell_type": "code",
      "source": [
        "y = df[0]\n",
        "\n",
        "X = df.loc[:,1:columns-1]"
      ],
      "metadata": {
        "id": "NeZJzTDK2szc"
      },
      "execution_count": 2,
      "outputs": []
    },
    {
      "cell_type": "markdown",
      "source": [
        "#Separar os dados de treinamento e testes\n",
        "\n"
      ],
      "metadata": {
        "id": "PiOkwSAg2v0t"
      }
    },
    {
      "cell_type": "code",
      "source": [
        "from sklearn.model_selection import train_test_split\n",
        "from sklearn import preprocessing\n",
        "\n",
        "\n",
        "X_train, X_test, y_train, y_test = train_test_split(X, y, test_size= 0.2, random_state=None, stratify=y)\n",
        "\n",
        "x = X.values\n",
        "min_max_scaler = preprocessing.MinMaxScaler()\n",
        "x_scaled = min_max_scaler.fit_transform(x)"
      ],
      "metadata": {
        "id": "jKkxUVNt2yLN"
      },
      "execution_count": 3,
      "outputs": []
    },
    {
      "cell_type": "markdown",
      "source": [
        "#Treinar 2 árvores de decisão com características diferentes"
      ],
      "metadata": {
        "id": "Z_g2YaIb23IL"
      }
    },
    {
      "cell_type": "code",
      "source": [
        "\n",
        "\n",
        "from sklearn.tree import DecisionTreeClassifier\n",
        "\n",
        "modelo1DecTree = DecisionTreeClassifier(criterion='entropy')\n",
        "modelo2DecTree = DecisionTreeClassifier(criterion='entropy', max_depth=2)\n",
        "\n",
        "modelo1DecTree.fit(X_train, y_train)\n",
        "modelo2DecTree.fit(X_train, y_train)\n",
        "\n",
        "\n",
        "res1 = modelo1DecTree.predict(X_test)\n",
        "res2 = modelo2DecTree.predict(X_test)"
      ],
      "metadata": {
        "id": "J10i9DrY20tG"
      },
      "execution_count": 4,
      "outputs": []
    },
    {
      "cell_type": "markdown",
      "source": [
        "#Treinar 2 kNN com características diferentes"
      ],
      "metadata": {
        "id": "wgLFKFEo273g"
      }
    },
    {
      "cell_type": "code",
      "source": [
        "\n",
        "\n",
        "from sklearn.neighbors import KNeighborsClassifier\n",
        "\n",
        "modelo3KNN = KNeighborsClassifier(n_neighbors=7, metric='euclidean', algorithm='brute')\n",
        "modelo4KNN = KNeighborsClassifier(n_neighbors=4, metric='euclidean', algorithm='brute')\n",
        "\n",
        "\n",
        "modelo3KNN.fit(X_train, y_train)\n",
        "modelo4KNN.fit(X_train, y_train)\n",
        "\n",
        "\n",
        "res3 = modelo3KNN.predict(X_test)\n",
        "res4 = modelo4KNN.predict(X_test)"
      ],
      "metadata": {
        "id": "V18MeJZZ26VU"
      },
      "execution_count": 5,
      "outputs": []
    },
    {
      "cell_type": "markdown",
      "source": [
        "#Resultados\n",
        "\n"
      ],
      "metadata": {
        "id": "US-cLlX33AFr"
      }
    },
    {
      "cell_type": "code",
      "source": [
        "from sklearn import metrics\n",
        "\n",
        "acc1 = metrics.accuracy_score(res1, y_test)\n",
        "show1 = round(acc1 * 100)\n",
        "print(\"{}%\".format(show1))\n",
        "\n",
        "acc2 = metrics.accuracy_score(res2, y_test)\n",
        "show2 = round(acc2 * 100)\n",
        "print(\"{}%\".format(show2))\n",
        "\n",
        "acc3 = metrics.accuracy_score(res3, y_test)\n",
        "show3 = round(acc3 * 100)\n",
        "print(\"{}%\".format(show3))\n",
        "\n",
        "acc4 = metrics.accuracy_score(res4, y_test)\n",
        "show4 = round(acc4 * 100)\n",
        "print(\"{}%\".format(show4))"
      ],
      "metadata": {
        "colab": {
          "base_uri": "https://localhost:8080/"
        },
        "id": "Qr3Xt01F3De4",
        "outputId": "fd2e9e03-0ee5-46b1-e2a6-03374343cfd4"
      },
      "execution_count": 7,
      "outputs": [
        {
          "output_type": "stream",
          "name": "stdout",
          "text": [
            "65%\n",
            "76%\n",
            "74%\n",
            "71%\n"
          ]
        }
      ]
    }
  ]
}